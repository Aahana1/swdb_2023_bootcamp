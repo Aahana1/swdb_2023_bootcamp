{
 "cells": [
  {
   "cell_type": "markdown",
   "id": "8bb3d0a1",
   "metadata": {},
   "source": [
    "# Dataset\n",
    "\n",
    "We will start exploring the parameters of the dataset to learn what data is available."
   ]
  },
  {
   "cell_type": "code",
   "execution_count": 1,
   "id": "088b4a9c",
   "metadata": {},
   "outputs": [],
   "source": [
    "import pandas as pd"
   ]
  },
  {
   "cell_type": "markdown",
   "id": "bfb198a5",
   "metadata": {},
   "source": [
    "First we need to access the dataset. We will use the AllenSDK and the BrainObservatoryCache to do so. First we need to set this up - the key step is to provide a <b>manifest file</b>. The SDK uses this file to know what data is available and organize the files it downloads. If you instantiate the BrainObservatoryCache without proviing a manifest file, it will create one in your working directory."
   ]
  },
  {
   "cell_type": "code",
   "execution_count": 2,
   "id": "6954bc89",
   "metadata": {},
   "outputs": [],
   "source": [
    "from allensdk.core.brain_observatory_cache import BrainObservatoryCache\n",
    "manifest_file = r'/Users/saskiad/Code/brain_observatory/manifest_v1point3.json'\n",
    "boc = BrainObservatoryCache(manifest_file=manifest_file)"
   ]
  },
  {
   "cell_type": "markdown",
   "id": "c810abfc",
   "metadata": {},
   "source": [
    "We can use the BrainObservatoryCache to explore the parameters of the dataset. \n",
    "\n",
    "(section-label)=\n",
    "## Targeted structures\n",
    "What brain regions were recorded across the dataset? To determine this we use a function called <b>get_all_targeted_structures</b> to create a list of the regions."
   ]
  },
  {
   "cell_type": "code",
   "execution_count": 3,
   "id": "c37fbb52",
   "metadata": {},
   "outputs": [
    {
     "data": {
      "text/plain": [
       "['VISal', 'VISam', 'VISl', 'VISp', 'VISpm', 'VISrl']"
      ]
     },
     "execution_count": 3,
     "metadata": {},
     "output_type": "execute_result"
    }
   ],
   "source": [
    "boc.get_all_targeted_structures()"
   ]
  },
  {
   "cell_type": "markdown",
   "id": "3ce2a059",
   "metadata": {},
   "source": [
    "We see that data was collected in six different visual areas. VISp is the primary visual cortex, also known as V1. The others are higher visual areas that surround VISp. See [visual cortical areas](anatomy.md) to learn more about these areas and how we map them.\n",
    "\n",
    "(section-label)=\n",
    "## Cre lines and reporters\n",
    "We used Cre lines to drive the expression of GCaMP6 in specific populations of neurons. We can find a list of all the cre lines used in this dataset with a similar function"
   ]
  },
  {
   "cell_type": "code",
   "execution_count": 4,
   "id": "bf2c64a5",
   "metadata": {},
   "outputs": [
    {
     "data": {
      "text/plain": [
       "['Cux2-CreERT2',\n",
       " 'Emx1-IRES-Cre',\n",
       " 'Fezf2-CreER',\n",
       " 'Nr5a1-Cre',\n",
       " 'Ntsr1-Cre_GN220',\n",
       " 'Pvalb-IRES-Cre',\n",
       " 'Rbp4-Cre_KL100',\n",
       " 'Rorb-IRES2-Cre',\n",
       " 'Scnn1a-Tg3-Cre',\n",
       " 'Slc17a7-IRES2-Cre',\n",
       " 'Sst-IRES-Cre',\n",
       " 'Tlx3-Cre_PL56',\n",
       " 'Vip-IRES-Cre']"
      ]
     },
     "execution_count": 4,
     "metadata": {},
     "output_type": "execute_result"
    }
   ],
   "source": [
    "boc.get_all_cre_lines()"
   ]
  },
  {
   "cell_type": "markdown",
   "id": "676b8861",
   "metadata": {},
   "source": [
    "Cre is a driver that drives the expression of a reporter. We used four different reporter lines in this dataset."
   ]
  },
  {
   "cell_type": "code",
   "execution_count": 5,
   "id": "0cda98c2",
   "metadata": {},
   "outputs": [
    {
     "data": {
      "text/plain": [
       "['Ai148(TIT2L-GC6f-ICL-tTA2)',\n",
       " 'Ai162(TIT2L-GC6s-ICL-tTA2)',\n",
       " 'Ai93(TITL-GCaMP6f)',\n",
       " 'Ai93(TITL-GCaMP6f)-hyg',\n",
       " 'Ai94(TITL-GCaMP6s)']"
      ]
     },
     "execution_count": 5,
     "metadata": {},
     "output_type": "execute_result"
    }
   ],
   "source": [
    "boc.get_all_reporter_lines()"
   ]
  },
  {
   "cell_type": "markdown",
   "id": "85f68982",
   "metadata": {},
   "source": [
    "```{note}\n",
    "Reporter lines: All the experiments in this dataset use GCaMP6. The large majority use GCaMP6f and only a few use GCaMP6s. However, you see four different reporters listed here. Why is this? Ai93 is the GCaMP6f reporter we used with the excitatory Cre lines. However, this reporter does not work well for inhibitory Cre lines. We used Ai148, another GCaMP6f reporter, with Vip-IRES-Cre and Sst-IRES-Cre. However, this didn't work with the Pvalb-IRES-Cre. We use Ai162, a GCaMP6s reporter with Pvalb. Additionally, to have a GCaMP6f vs GCaMP6s comparison, we collected a small number of experiments using Ai94 with the Slc17a7-IRES2-Cre. This is a GCaMP6s reporter that complements Ai93. Slc17a7-IRES2-Cre is the only Cre line that was recorded using multiple reporter types. \n",
    "```\n",
    "\n",
    "See [Transgenic tools](transgenic-tools.md) to learn more about these Cre lines and reporters.\n",
    "\n",
    "(section-label)=\n",
    "## Imaging depths\n",
    "Each experiment was collected at a single imaging depth."
   ]
  },
  {
   "cell_type": "code",
   "execution_count": 6,
   "id": "0bf9ebdb",
   "metadata": {},
   "outputs": [
    {
     "data": {
      "text/plain": [
       "[175,\n",
       " 185,\n",
       " 195,\n",
       " 200,\n",
       " 205,\n",
       " 225,\n",
       " 250,\n",
       " 265,\n",
       " 275,\n",
       " 276,\n",
       " 285,\n",
       " 300,\n",
       " 320,\n",
       " 325,\n",
       " 335,\n",
       " 350,\n",
       " 365,\n",
       " 375,\n",
       " 390,\n",
       " 400,\n",
       " 550,\n",
       " 570,\n",
       " 625]"
      ]
     },
     "execution_count": 6,
     "metadata": {},
     "output_type": "execute_result"
    }
   ],
   "source": [
    "boc.get_all_imaging_depths()"
   ]
  },
  {
   "cell_type": "markdown",
   "id": "c9859c59",
   "metadata": {},
   "source": [
    "These values are in um below the surface of the cortex. This is a long list and some of the values don't differ by very much. How meaningful is it? We roughly consider depths less than 250 to be layer 2/3, 250-350 to be layer 4, 350-500 to be layer 5, and over 500 to be layer 6. Keep in mind, much of the imaging here was done with layer specific Cre lines, so for most purposes the best way to get layer specificity is to select appropriate Cre lines.\n",
    "\n",
    "(section-label)=\n",
    "## Visual stimuli\n",
    "What were the visual stimuli that we showed to the mice?"
   ]
  },
  {
   "cell_type": "code",
   "execution_count": 7,
   "id": "62980b24",
   "metadata": {},
   "outputs": [
    {
     "data": {
      "text/plain": [
       "['drifting_gratings',\n",
       " 'locally_sparse_noise',\n",
       " 'locally_sparse_noise_4deg',\n",
       " 'locally_sparse_noise_8deg',\n",
       " 'natural_movie_one',\n",
       " 'natural_movie_three',\n",
       " 'natural_movie_two',\n",
       " 'natural_scenes',\n",
       " 'spontaneous',\n",
       " 'static_gratings']"
      ]
     },
     "execution_count": 7,
     "metadata": {},
     "output_type": "execute_result"
    }
   ],
   "source": [
    "boc.get_all_stimuli()"
   ]
  },
  {
   "cell_type": "markdown",
   "id": "3a4c44c7",
   "metadata": {},
   "source": [
    "MORE ON THESE\n",
    "\n",
    "(section-label)=\n",
    "## Experiment containers & sessions\n",
    "\n",
    "The <b>experiment container</b> describes a set of 3 imaging <b>sessions</b> performed for the same field of view (ie. same targeted structure and imaging depth in the same mouse that targets the same set of neurons). Each experiment container has a unique ID number.\n",
    "\n",
    "We will identify all the experiment containers for a given stucture and Cre line:"
   ]
  },
  {
   "cell_type": "code",
   "execution_count": 8,
   "id": "906b2506",
   "metadata": {},
   "outputs": [],
   "source": [
    "visual_area = 'VISp'\n",
    "cre_line ='Cux2-CreERT2'\n",
    "\n",
    "exps = boc.get_experiment_containers(targeted_structures=[visual_area], cre_lines=[cre_line])"
   ]
  },
  {
   "cell_type": "markdown",
   "id": "b0fc9654",
   "metadata": {},
   "source": [
    "```{note}\n",
    "<b>get_experiment_containers</b> returns all experiment containers that meet the conditions we have specified. If we don't pass any parameters, it returns all experiment containers.\n",
    "```\n",
    "\n",
    "We can make a dataframe of the list of experiment containers to see what information we get about them:"
   ]
  },
  {
   "cell_type": "code",
   "execution_count": 9,
   "id": "56854088",
   "metadata": {},
   "outputs": [
    {
     "data": {
      "text/html": [
       "<div>\n",
       "<style scoped>\n",
       "    .dataframe tbody tr th:only-of-type {\n",
       "        vertical-align: middle;\n",
       "    }\n",
       "\n",
       "    .dataframe tbody tr th {\n",
       "        vertical-align: top;\n",
       "    }\n",
       "\n",
       "    .dataframe thead th {\n",
       "        text-align: right;\n",
       "    }\n",
       "</style>\n",
       "<table border=\"1\" class=\"dataframe\">\n",
       "  <thead>\n",
       "    <tr style=\"text-align: right;\">\n",
       "      <th></th>\n",
       "      <th>id</th>\n",
       "      <th>imaging_depth</th>\n",
       "      <th>targeted_structure</th>\n",
       "      <th>cre_line</th>\n",
       "      <th>reporter_line</th>\n",
       "      <th>donor_name</th>\n",
       "      <th>specimen_name</th>\n",
       "      <th>tags</th>\n",
       "      <th>failed</th>\n",
       "    </tr>\n",
       "  </thead>\n",
       "  <tbody>\n",
       "    <tr>\n",
       "      <th>0</th>\n",
       "      <td>511510736</td>\n",
       "      <td>175</td>\n",
       "      <td>VISp</td>\n",
       "      <td>Cux2-CreERT2</td>\n",
       "      <td>Ai93(TITL-GCaMP6f)</td>\n",
       "      <td>222426</td>\n",
       "      <td>Cux2-CreERT2;Camk2a-tTA;Ai93-222426</td>\n",
       "      <td>[]</td>\n",
       "      <td>False</td>\n",
       "    </tr>\n",
       "    <tr>\n",
       "      <th>1</th>\n",
       "      <td>511510855</td>\n",
       "      <td>175</td>\n",
       "      <td>VISp</td>\n",
       "      <td>Cux2-CreERT2</td>\n",
       "      <td>Ai93(TITL-GCaMP6f)</td>\n",
       "      <td>229106</td>\n",
       "      <td>Cux2-CreERT2;Camk2a-tTA;Ai93-229106</td>\n",
       "      <td>[]</td>\n",
       "      <td>False</td>\n",
       "    </tr>\n",
       "    <tr>\n",
       "      <th>2</th>\n",
       "      <td>511509529</td>\n",
       "      <td>175</td>\n",
       "      <td>VISp</td>\n",
       "      <td>Cux2-CreERT2</td>\n",
       "      <td>Ai93(TITL-GCaMP6f)</td>\n",
       "      <td>222420</td>\n",
       "      <td>Cux2-CreERT2;Camk2a-tTA;Ai93-222420</td>\n",
       "      <td>[]</td>\n",
       "      <td>False</td>\n",
       "    </tr>\n",
       "    <tr>\n",
       "      <th>3</th>\n",
       "      <td>511507650</td>\n",
       "      <td>175</td>\n",
       "      <td>VISp</td>\n",
       "      <td>Cux2-CreERT2</td>\n",
       "      <td>Ai93(TITL-GCaMP6f)</td>\n",
       "      <td>222424</td>\n",
       "      <td>Cux2-CreERT2;Camk2a-tTA;Ai93-222424</td>\n",
       "      <td>[]</td>\n",
       "      <td>False</td>\n",
       "    </tr>\n",
       "    <tr>\n",
       "      <th>4</th>\n",
       "      <td>511510699</td>\n",
       "      <td>275</td>\n",
       "      <td>VISp</td>\n",
       "      <td>Cux2-CreERT2</td>\n",
       "      <td>Ai93(TITL-GCaMP6f)</td>\n",
       "      <td>225037</td>\n",
       "      <td>Cux2-CreERT2;Camk2a-tTA;Ai93-225037</td>\n",
       "      <td>[]</td>\n",
       "      <td>False</td>\n",
       "    </tr>\n",
       "    <tr>\n",
       "      <th>5</th>\n",
       "      <td>702934962</td>\n",
       "      <td>275</td>\n",
       "      <td>VISp</td>\n",
       "      <td>Cux2-CreERT2</td>\n",
       "      <td>Ai93(TITL-GCaMP6f)</td>\n",
       "      <td>382421</td>\n",
       "      <td>Cux2-CreERT2;Camk2a-tTA;Ai93-382421</td>\n",
       "      <td>[]</td>\n",
       "      <td>False</td>\n",
       "    </tr>\n",
       "    <tr>\n",
       "      <th>6</th>\n",
       "      <td>645413757</td>\n",
       "      <td>275</td>\n",
       "      <td>VISp</td>\n",
       "      <td>Cux2-CreERT2</td>\n",
       "      <td>Ai93(TITL-GCaMP6f)</td>\n",
       "      <td>348262</td>\n",
       "      <td>Cux2-CreERT2;Camk2a-tTA;Ai93-348262</td>\n",
       "      <td>[]</td>\n",
       "      <td>False</td>\n",
       "    </tr>\n",
       "    <tr>\n",
       "      <th>7</th>\n",
       "      <td>659767480</td>\n",
       "      <td>275</td>\n",
       "      <td>VISp</td>\n",
       "      <td>Cux2-CreERT2</td>\n",
       "      <td>Ai93(TITL-GCaMP6f)</td>\n",
       "      <td>360565</td>\n",
       "      <td>Cux2-CreERT2;Camk2a-tTA;Ai93-360565</td>\n",
       "      <td>[]</td>\n",
       "      <td>False</td>\n",
       "    </tr>\n",
       "    <tr>\n",
       "      <th>8</th>\n",
       "      <td>511510650</td>\n",
       "      <td>175</td>\n",
       "      <td>VISp</td>\n",
       "      <td>Cux2-CreERT2</td>\n",
       "      <td>Ai93(TITL-GCaMP6f)</td>\n",
       "      <td>222425</td>\n",
       "      <td>Cux2-CreERT2;Camk2a-tTA;Ai93-222425</td>\n",
       "      <td>[]</td>\n",
       "      <td>False</td>\n",
       "    </tr>\n",
       "    <tr>\n",
       "      <th>9</th>\n",
       "      <td>712178509</td>\n",
       "      <td>275</td>\n",
       "      <td>VISp</td>\n",
       "      <td>Cux2-CreERT2</td>\n",
       "      <td>Ai93(TITL-GCaMP6f)</td>\n",
       "      <td>390323</td>\n",
       "      <td>Cux2-CreERT2;Camk2a-tTA;Ai93-390323</td>\n",
       "      <td>[]</td>\n",
       "      <td>False</td>\n",
       "    </tr>\n",
       "    <tr>\n",
       "      <th>10</th>\n",
       "      <td>511510779</td>\n",
       "      <td>275</td>\n",
       "      <td>VISp</td>\n",
       "      <td>Cux2-CreERT2</td>\n",
       "      <td>Ai93(TITL-GCaMP6f)</td>\n",
       "      <td>225036</td>\n",
       "      <td>Cux2-CreERT2;Camk2a-tTA;Ai93-225036</td>\n",
       "      <td>[]</td>\n",
       "      <td>False</td>\n",
       "    </tr>\n",
       "    <tr>\n",
       "      <th>11</th>\n",
       "      <td>511510667</td>\n",
       "      <td>275</td>\n",
       "      <td>VISp</td>\n",
       "      <td>Cux2-CreERT2</td>\n",
       "      <td>Ai93(TITL-GCaMP6f)</td>\n",
       "      <td>222420</td>\n",
       "      <td>Cux2-CreERT2;Camk2a-tTA;Ai93-222420</td>\n",
       "      <td>[]</td>\n",
       "      <td>False</td>\n",
       "    </tr>\n",
       "    <tr>\n",
       "      <th>12</th>\n",
       "      <td>524691282</td>\n",
       "      <td>275</td>\n",
       "      <td>VISp</td>\n",
       "      <td>Cux2-CreERT2</td>\n",
       "      <td>Ai93(TITL-GCaMP6f)</td>\n",
       "      <td>243293</td>\n",
       "      <td>Cux2-CreERT2;Camk2a-tTA;Ai93-243293</td>\n",
       "      <td>[]</td>\n",
       "      <td>False</td>\n",
       "    </tr>\n",
       "    <tr>\n",
       "      <th>13</th>\n",
       "      <td>511510670</td>\n",
       "      <td>175</td>\n",
       "      <td>VISp</td>\n",
       "      <td>Cux2-CreERT2</td>\n",
       "      <td>Ai93(TITL-GCaMP6f)</td>\n",
       "      <td>225037</td>\n",
       "      <td>Cux2-CreERT2;Camk2a-tTA;Ai93-225037</td>\n",
       "      <td>[]</td>\n",
       "      <td>False</td>\n",
       "    </tr>\n",
       "    <tr>\n",
       "      <th>14</th>\n",
       "      <td>701412138</td>\n",
       "      <td>175</td>\n",
       "      <td>VISp</td>\n",
       "      <td>Cux2-CreERT2</td>\n",
       "      <td>Ai93(TITL-GCaMP6f)</td>\n",
       "      <td>382421</td>\n",
       "      <td>Cux2-CreERT2;Camk2a-tTA;Ai93-382421</td>\n",
       "      <td>[]</td>\n",
       "      <td>False</td>\n",
       "    </tr>\n",
       "    <tr>\n",
       "      <th>15</th>\n",
       "      <td>511510718</td>\n",
       "      <td>175</td>\n",
       "      <td>VISp</td>\n",
       "      <td>Cux2-CreERT2</td>\n",
       "      <td>Ai93(TITL-GCaMP6f)</td>\n",
       "      <td>231584</td>\n",
       "      <td>Cux2-CreERT2;Camk2a-tTA;Ai93-231584</td>\n",
       "      <td>[]</td>\n",
       "      <td>False</td>\n",
       "    </tr>\n",
       "  </tbody>\n",
       "</table>\n",
       "</div>"
      ],
      "text/plain": [
       "           id  imaging_depth targeted_structure      cre_line  \\\n",
       "0   511510736            175               VISp  Cux2-CreERT2   \n",
       "1   511510855            175               VISp  Cux2-CreERT2   \n",
       "2   511509529            175               VISp  Cux2-CreERT2   \n",
       "3   511507650            175               VISp  Cux2-CreERT2   \n",
       "4   511510699            275               VISp  Cux2-CreERT2   \n",
       "5   702934962            275               VISp  Cux2-CreERT2   \n",
       "6   645413757            275               VISp  Cux2-CreERT2   \n",
       "7   659767480            275               VISp  Cux2-CreERT2   \n",
       "8   511510650            175               VISp  Cux2-CreERT2   \n",
       "9   712178509            275               VISp  Cux2-CreERT2   \n",
       "10  511510779            275               VISp  Cux2-CreERT2   \n",
       "11  511510667            275               VISp  Cux2-CreERT2   \n",
       "12  524691282            275               VISp  Cux2-CreERT2   \n",
       "13  511510670            175               VISp  Cux2-CreERT2   \n",
       "14  701412138            175               VISp  Cux2-CreERT2   \n",
       "15  511510718            175               VISp  Cux2-CreERT2   \n",
       "\n",
       "         reporter_line donor_name                        specimen_name tags  \\\n",
       "0   Ai93(TITL-GCaMP6f)     222426  Cux2-CreERT2;Camk2a-tTA;Ai93-222426   []   \n",
       "1   Ai93(TITL-GCaMP6f)     229106  Cux2-CreERT2;Camk2a-tTA;Ai93-229106   []   \n",
       "2   Ai93(TITL-GCaMP6f)     222420  Cux2-CreERT2;Camk2a-tTA;Ai93-222420   []   \n",
       "3   Ai93(TITL-GCaMP6f)     222424  Cux2-CreERT2;Camk2a-tTA;Ai93-222424   []   \n",
       "4   Ai93(TITL-GCaMP6f)     225037  Cux2-CreERT2;Camk2a-tTA;Ai93-225037   []   \n",
       "5   Ai93(TITL-GCaMP6f)     382421  Cux2-CreERT2;Camk2a-tTA;Ai93-382421   []   \n",
       "6   Ai93(TITL-GCaMP6f)     348262  Cux2-CreERT2;Camk2a-tTA;Ai93-348262   []   \n",
       "7   Ai93(TITL-GCaMP6f)     360565  Cux2-CreERT2;Camk2a-tTA;Ai93-360565   []   \n",
       "8   Ai93(TITL-GCaMP6f)     222425  Cux2-CreERT2;Camk2a-tTA;Ai93-222425   []   \n",
       "9   Ai93(TITL-GCaMP6f)     390323  Cux2-CreERT2;Camk2a-tTA;Ai93-390323   []   \n",
       "10  Ai93(TITL-GCaMP6f)     225036  Cux2-CreERT2;Camk2a-tTA;Ai93-225036   []   \n",
       "11  Ai93(TITL-GCaMP6f)     222420  Cux2-CreERT2;Camk2a-tTA;Ai93-222420   []   \n",
       "12  Ai93(TITL-GCaMP6f)     243293  Cux2-CreERT2;Camk2a-tTA;Ai93-243293   []   \n",
       "13  Ai93(TITL-GCaMP6f)     225037  Cux2-CreERT2;Camk2a-tTA;Ai93-225037   []   \n",
       "14  Ai93(TITL-GCaMP6f)     382421  Cux2-CreERT2;Camk2a-tTA;Ai93-382421   []   \n",
       "15  Ai93(TITL-GCaMP6f)     231584  Cux2-CreERT2;Camk2a-tTA;Ai93-231584   []   \n",
       "\n",
       "    failed  \n",
       "0    False  \n",
       "1    False  \n",
       "2    False  \n",
       "3    False  \n",
       "4    False  \n",
       "5    False  \n",
       "6    False  \n",
       "7    False  \n",
       "8    False  \n",
       "9    False  \n",
       "10   False  \n",
       "11   False  \n",
       "12   False  \n",
       "13   False  \n",
       "14   False  \n",
       "15   False  "
      ]
     },
     "execution_count": 9,
     "metadata": {},
     "output_type": "execute_result"
    }
   ],
   "source": [
    "pd.DataFrame(exps)"
   ]
  },
  {
   "cell_type": "markdown",
   "id": "b60fef68",
   "metadata": {},
   "source": [
    "(section-label)=\n",
    "## Session types\n",
    "The responses to this full set of visual stimuli were recorded across three imaging sessions. We returned to the same targeted structure and same imaging depth in the same mouse to recorded the same group of neurons across three different days."
   ]
  },
  {
   "cell_type": "code",
   "execution_count": 10,
   "id": "6ecf023d",
   "metadata": {},
   "outputs": [
    {
     "data": {
      "text/plain": [
       "['three_session_A', 'three_session_B', 'three_session_C', 'three_session_C2']"
      ]
     },
     "execution_count": 10,
     "metadata": {},
     "output_type": "execute_result"
    }
   ],
   "source": [
    "boc.get_all_session_types()"
   ]
  },
  {
   "cell_type": "markdown",
   "id": "d272da13",
   "metadata": {},
   "source": [
    "We will explore which stimuli are part of which session in REFERENCE. \n",
    "During data processing, we matched identified ROIs (REFERENCE) across each of the sessions. Approximately one third of the neurons in the dataset were matched across all three sessions, one third were matched in two of the three session, and one third were only found in one session. Neurons have unique ids, called specimen_ids, that are shared across the sessions they are found in."
   ]
  }
 ],
 "metadata": {
  "jupytext": {
   "formats": "md:myst",
   "text_representation": {
    "extension": ".md",
    "format_name": "myst",
    "format_version": 0.13,
    "jupytext_version": "1.11.5"
   }
  },
  "kernelspec": {
   "display_name": "Python 3",
   "language": "python",
   "name": "python3"
  },
  "language_info": {
   "codemirror_mode": {
    "name": "ipython",
    "version": 3
   },
   "file_extension": ".py",
   "mimetype": "text/x-python",
   "name": "python",
   "nbconvert_exporter": "python",
   "pygments_lexer": "ipython3",
   "version": "3.9.13"
  },
  "source_map": [
   13,
   19,
   21,
   25,
   29,
   37,
   39,
   47,
   49,
   53,
   55,
   67,
   69,
   77,
   79,
   90,
   95,
   103,
   105,
   111,
   113
  ]
 },
 "nbformat": 4,
 "nbformat_minor": 5
}